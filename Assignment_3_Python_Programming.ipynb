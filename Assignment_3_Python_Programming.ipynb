{
  "nbformat": 4,
  "nbformat_minor": 0,
  "metadata": {
    "colab": {
      "provenance": [],
      "authorship_tag": "ABX9TyNxxGYp+tyPFC/pirjig5pj",
      "include_colab_link": true
    },
    "kernelspec": {
      "name": "python3",
      "display_name": "Python 3"
    },
    "language_info": {
      "name": "python"
    }
  },
  "cells": [
    {
      "cell_type": "markdown",
      "metadata": {
        "id": "view-in-github",
        "colab_type": "text"
      },
      "source": [
        "<a href=\"https://colab.research.google.com/github/sathasivamn/PYTHON-PROGRAMMING-ASSIGNMENT/blob/main/Assignment_3_Python_Programming.ipynb\" target=\"_parent\"><img src=\"https://colab.research.google.com/assets/colab-badge.svg\" alt=\"Open In Colab\"/></a>"
      ]
    },
    {
      "cell_type": "markdown",
      "source": [
        "# Python Code for the Assignment"
      ],
      "metadata": {
        "id": "YnuljqCldQtB"
      }
    },
    {
      "cell_type": "code",
      "execution_count": 5,
      "metadata": {
        "id": "VCKouzYubymu"
      },
      "outputs": [],
      "source": [
        "## Import Libraries\n",
        "import random\n",
        "import string\n",
        "import numpy as np\n",
        "from collections import Counter\n",
        "import re"
      ]
    },
    {
      "cell_type": "markdown",
      "source": [
        "# Exercise 1: Prime Numbers\n",
        "## Function Definition:\n",
        "#### Defines is_prime(n) to check if n is a prime number.\n",
        "## Edge Case Handling (n < 2):\n",
        "#### Numbers 0 and 1 are not prime, so the function immediately returns False.\n",
        "## Loop Optimization (int(n**0.5) + 1):\n",
        "#### Instead of checking all numbers from 2 to n-1, we only check up to the square root of n, which speeds up the function.\n",
        "## Divisibility Check (n % i == 0):\n",
        "#### If n is divisible by any number in the range, it is not prime.\n",
        "## Final Return Statement:\n",
        "#### If no factors are found, the function returns True, confirming n is prime.\n"
      ],
      "metadata": {
        "id": "JIR_UIaAhlC1"
      }
    },
    {
      "cell_type": "code",
      "source": [
        "\"\"\"Checks if a number is prime.\"\"\"\n",
        "def is_prime(n):\n",
        "    if n < 2:\n",
        "        return False\n",
        "    for i in range(2, int(n**0.5) + 1):\n",
        "        if n % i == 0:\n",
        "            return False\n",
        "    return True"
      ],
      "metadata": {
        "id": "vt7zdPuHdrin"
      },
      "execution_count": 10,
      "outputs": []
    },
    {
      "cell_type": "code",
      "source": [
        "# Example usage:\n",
        "num = int(input(\"Enter a number to check if it's prime: \"))\n",
        "if is_prime(num):\n",
        "    print(f\"{num} is a prime number.\")\n",
        "else:\n",
        "    print(f\"{num} is not a prime number.\")"
      ],
      "metadata": {
        "colab": {
          "base_uri": "https://localhost:8080/"
        },
        "id": "GhhKgT7wg_dv",
        "outputId": "a03ed35b-3e7c-4ab2-bcc4-fcf49bd45441"
      },
      "execution_count": 11,
      "outputs": [
        {
          "output_type": "stream",
          "name": "stdout",
          "text": [
            "Enter a number to check if it's prime: 3\n",
            "3 is a prime number.\n"
          ]
        }
      ]
    },
    {
      "cell_type": "markdown",
      "source": [
        "# Exercise 2: Product of Random Numbers\n",
        "\n",
        "## Generating Random Numbers:\n",
        "#### random.randint(1, 10) creates two random numbers for the multiplication question.\n",
        "## User Input:\n",
        "#### input(f\"What is {num1} × {num2}? \") asks the user for their answer.\n",
        "#### int(...) ensures the input is treated as a number.\n",
        "## Checking the Answer:\n",
        "#### The correct answer is calculated using num1 * num2.\n",
        "#### An if-else statement determines if the user was correct.\n",
        "## Displaying Results:\n",
        "#### ✅ Correct Answer → \"✅ Correct! Well done.\"\n",
        "#### ❌ Incorrect Answer → \"❌ Incorrect. The correct answer is {correct_answer}.\""
      ],
      "metadata": {
        "id": "m_ma7IDgjOPd"
      }
    },
    {
      "cell_type": "code",
      "source": [
        "## Import Library\n",
        "import random\n",
        "\n",
        "# Generate two random numbers\n",
        "num1 = random.randint(1, 10)\n",
        "num2 = random.randint(1, 10)\n",
        "\n",
        "# Ask the user for their answer\n",
        "user_answer = int(input(f\"What is {num1} × {num2}? \"))\n",
        "\n",
        "# Check correctness\n",
        "correct_answer = num1 * num2\n",
        "if user_answer == correct_answer:\n",
        "    print(\"✅ Correct! Well done.\")\n",
        "else:\n",
        "    print(f\"❌ Incorrect. The correct answer is {correct_answer}.\")"
      ],
      "metadata": {
        "colab": {
          "base_uri": "https://localhost:8080/"
        },
        "id": "qc4eaQM6imBr",
        "outputId": "93c7de3f-c164-4832-da6d-d8fa591b3072"
      },
      "execution_count": 13,
      "outputs": [
        {
          "output_type": "stream",
          "name": "stdout",
          "text": [
            "What is 10 × 4? 41\n",
            "❌ Incorrect. The correct answer is 40.\n"
          ]
        }
      ]
    },
    {
      "cell_type": "markdown",
      "source": [
        "# Exercise 3: Print Squares of Even Numbers from 100 to 200\n",
        "\n",
        "## Printing a Heading:\n",
        "#### \"Squares of even numbers from 100 to 200:\" tells the user what the program will display.\n",
        "## Using a Loop with range():\n",
        "#### for num in range(100, 201, 2): ensures only even numbers from 100 to 200 are processed.\n",
        "## Exponentiation (num**2):\n",
        "#### Each number is squared (num**2) and printed in the format 100² = 10000.\n",
        "## Formatted String (f\"{num}² = {num**2}\"):\n",
        "#### Improves readability by dynamically inserting the number and its square into the output."
      ],
      "metadata": {
        "id": "wUisnlqrlYzc"
      }
    },
    {
      "cell_type": "code",
      "source": [
        "print(\"Squares of even numbers from 100 to 200:\")\n",
        "for num in range(100, 201, 2):  # Step size of 2 to get only even numbers\n",
        "    print(f\"{num}² = {num**2}\")"
      ],
      "metadata": {
        "colab": {
          "base_uri": "https://localhost:8080/"
        },
        "id": "u_kFWXtulEJ_",
        "outputId": "417fda85-062a-4561-d3de-d0b412cbff01"
      },
      "execution_count": 17,
      "outputs": [
        {
          "output_type": "stream",
          "name": "stdout",
          "text": [
            "Squares of even numbers from 100 to 200:\n",
            "100² = 10000\n",
            "102² = 10404\n",
            "104² = 10816\n",
            "106² = 11236\n",
            "108² = 11664\n",
            "110² = 12100\n",
            "112² = 12544\n",
            "114² = 12996\n",
            "116² = 13456\n",
            "118² = 13924\n",
            "120² = 14400\n",
            "122² = 14884\n",
            "124² = 15376\n",
            "126² = 15876\n",
            "128² = 16384\n",
            "130² = 16900\n",
            "132² = 17424\n",
            "134² = 17956\n",
            "136² = 18496\n",
            "138² = 19044\n",
            "140² = 19600\n",
            "142² = 20164\n",
            "144² = 20736\n",
            "146² = 21316\n",
            "148² = 21904\n",
            "150² = 22500\n",
            "152² = 23104\n",
            "154² = 23716\n",
            "156² = 24336\n",
            "158² = 24964\n",
            "160² = 25600\n",
            "162² = 26244\n",
            "164² = 26896\n",
            "166² = 27556\n",
            "168² = 28224\n",
            "170² = 28900\n",
            "172² = 29584\n",
            "174² = 30276\n",
            "176² = 30976\n",
            "178² = 31684\n",
            "180² = 32400\n",
            "182² = 33124\n",
            "184² = 33856\n",
            "186² = 34596\n",
            "188² = 35344\n",
            "190² = 36100\n",
            "192² = 36864\n",
            "194² = 37636\n",
            "196² = 38416\n",
            "198² = 39204\n",
            "200² = 40000\n"
          ]
        }
      ]
    },
    {
      "cell_type": "markdown",
      "source": [
        "# Exercise 4: Word Counter\n",
        "\n",
        "## Function Definition:\n",
        "#### def word_count(text): → Defines a function to count words.\n",
        "## Text Processing:\n",
        "#### Converts text to lowercase (text.lower()) and splits it into words (.split()).\n",
        "## Word Frequency Calculation:\n",
        "#### Uses Counter(words) to count the number of times each word appears.\n",
        "## Returning the Result:\n",
        "#### The function returns a dictionary-like Counter object with word counts."
      ],
      "metadata": {
        "id": "nvpXB4rnnFVD"
      }
    },
    {
      "cell_type": "code",
      "source": [
        "## Import Library\n",
        "from collections import Counter\n",
        "\n",
        "def word_count(text):\n",
        "    \"\"\"Counts the frequency of words in a given text.\"\"\"\n",
        "    words = text.lower().split()  # Convert to lowercase and split into words\n",
        "    word_freq = Counter(words)    # Count word occurrences\n",
        "    return word_freq\n",
        "\n",
        "# Example usage:\n",
        "input_text = \"This is a sample text. I am Sathasivam, testing word counter in phyton using Colab.\"\n",
        "word_frequencies = word_count(input_text)\n",
        "\n",
        "# Display the word counts\n",
        "for word, count in word_frequencies.items():\n",
        "    print(f\"'{word}': {count}\")"
      ],
      "metadata": {
        "colab": {
          "base_uri": "https://localhost:8080/"
        },
        "id": "P5d6KJzgmfYU",
        "outputId": "323d6509-ad44-41fa-e9f1-2fc92a927dc8"
      },
      "execution_count": 20,
      "outputs": [
        {
          "output_type": "stream",
          "name": "stdout",
          "text": [
            "'this': 1\n",
            "'is': 1\n",
            "'a': 1\n",
            "'sample': 1\n",
            "'text.': 1\n",
            "'i': 1\n",
            "'am': 1\n",
            "'sathasivam,': 1\n",
            "'testing': 1\n",
            "'word': 1\n",
            "'counter': 1\n",
            "'in': 1\n",
            "'phyton': 1\n",
            "'using': 1\n",
            "'colab.': 1\n"
          ]
        }
      ]
    },
    {
      "cell_type": "markdown",
      "source": [
        "# Exercise 5: Check for Palindrome\n",
        "\n",
        "## Importing the re Module:\n",
        "#### Used for regular expressions to clean the input string.\n",
        "## Function Definition:\n",
        "#### Takes a string and checks if it’s a palindrome.\n",
        "## Cleaning the String:\n",
        "#### Removes non-alphanumeric characters (re.sub(r'[^a-zA-Z0-9]', '', s)) and converts to lowercase (.lower()).\n",
        "## Checking for Palindrome:\n",
        "#### Compares the cleaned string with its reversed version ([::-1])."
      ],
      "metadata": {
        "id": "cQAmePZGpA11"
      }
    },
    {
      "cell_type": "code",
      "source": [
        "## Import Library\n",
        "import re\n",
        "\n",
        "def is_palindrome(s):\n",
        "    \"\"\"Checks if a string is a palindrome, ignoring spaces, punctuation, and capitalization.\"\"\"\n",
        "    cleaned_string = re.sub(r'[^a-zA-Z0-9]', '', s).lower()  # Remove non-alphanumeric characters\n",
        "    return cleaned_string == cleaned_string[::-1]\n",
        "\n",
        "# Example usage:\n",
        "word = input(\"Enter a word to check if it's a palindrome: \")\n",
        "print(is_palindrome(word))"
      ],
      "metadata": {
        "colab": {
          "base_uri": "https://localhost:8080/"
        },
        "id": "B3-iDjo1oUME",
        "outputId": "5ba1f51b-1ca6-44b0-fcf3-f655b1e36d7b"
      },
      "execution_count": 21,
      "outputs": [
        {
          "output_type": "stream",
          "name": "stdout",
          "text": [
            "Enter a word to check if it's a palindrome: I become a Data Scientist\n",
            "False\n"
          ]
        }
      ]
    },
    {
      "cell_type": "code",
      "source": [],
      "metadata": {
        "id": "WHrplxE_p1Lb"
      },
      "execution_count": 21,
      "outputs": []
    }
  ]
}